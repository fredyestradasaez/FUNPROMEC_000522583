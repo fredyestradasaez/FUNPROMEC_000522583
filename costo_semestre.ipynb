{
  "nbformat": 4,
  "nbformat_minor": 0,
  "metadata": {
    "colab": {
      "provenance": [],
      "authorship_tag": "ABX9TyMDTOV+Ncdt2s3YQgq6/NDJ",
      "include_colab_link": true
    },
    "kernelspec": {
      "name": "python3",
      "display_name": "Python 3"
    },
    "language_info": {
      "name": "python"
    }
  },
  "cells": [
    {
      "cell_type": "markdown",
      "metadata": {
        "id": "view-in-github",
        "colab_type": "text"
      },
      "source": [
        "<a href=\"https://colab.research.google.com/github/fredyestradasaez/FUNPROMEC_000522583/blob/main/costo_semestre.ipynb\" target=\"_parent\"><img src=\"https://colab.research.google.com/assets/colab-badge.svg\" alt=\"Open In Colab\"/></a>"
      ]
    },
    {
      "cell_type": "code",
      "execution_count": null,
      "metadata": {
        "id": "ua-UNwM222OX",
        "colab": {
          "base_uri": "https://localhost:8080/"
        },
        "outputId": "ca2c9169-2d8e-46b8-e6a0-d5607e93459d"
      },
      "outputs": [
        {
          "output_type": "stream",
          "name": "stdout",
          "text": [
            "Ingrese su edad: 18\n",
            "Ingrese su estrato socioeconómico: 4\n",
            "¿Vive dentro o fuera de Montería? (dentro/fuera): fuera\n",
            "Ingrese su promedio ponderado proyectado del semestre: 4.5\n",
            "Su costo total mensual es de: $ 540000\n",
            "Su costo total semestral es de: $ -1340000\n"
          ]
        }
      ],
      "source": [
        "# Solicitar información personal\n",
        "edad = int(input(\"Ingrese su edad: \"))\n",
        "estrato = int(input(\"Ingrese su estrato socioeconómico: \"))\n",
        "lugar_residencia = input(\"¿Vive dentro o fuera de Montería? (dentro/fuera): \")\n",
        "promedio_ponderado = float(input(\"Ingrese su promedio ponderado proyectado del semestre: \"))\n",
        "apoyo_transporte = 0\n",
        "apoyo_alimentacion = 0\n",
        "\n",
        "# Calcular costo de transporte\n",
        "if lugar_residencia == \"dentro\":\n",
        "  costo_transporte = 2800\n",
        "else:\n",
        "  costo_transporte = 3500\n",
        "\n",
        "# Calcular costo de alimentación\n",
        "costo_alimentacion = 20000 * 20\n",
        "\n",
        "# Calcular apoyo de transporte de Chocolove\n",
        "if estrato == 1:\n",
        "  if edad < 18:\n",
        "    apoyo_transporte = 65000\n",
        "  else:\n",
        "    apoyo_transporte = 50000\n",
        "elif estrato == 2:\n",
        "  if edad < 18:\n",
        "    apoyo_transporte = 45000\n",
        "  else:\n",
        "    apoyo_transporte = 30000\n",
        "elif estrato == 3:\n",
        "  if edad < 18:\n",
        "    apoyo_transporte = 35000\n",
        "  else:\n",
        "    apoyo_transporte = 20000\n",
        "\n",
        "# Calcular apoyo de alimentación de Chocolove\n",
        "if estrato == 1:\n",
        "  if edad < 18:\n",
        "    apoyo_alimentacion = costo_alimentacion * 0.9\n",
        "  else:\n",
        "    apoyo_alimentacion = costo_alimentacion * 0.7\n",
        "elif estrato == 2:\n",
        "  if edad < 18:\n",
        "    apoyo_alimentacion = costo_alimentacion * 0.7\n",
        "  else:\n",
        "    apoyo_alimentacion = costo_alimentacion * 0.5\n",
        "elif estrato == 3:\n",
        "  if edad < 18:\n",
        "    apoyo_alimentacion = costo_alimentacion * 0.5\n",
        "  else:\n",
        "    apoyo_alimentacion = costo_alimentacion * 0.3\n",
        "\n",
        "# Calcular apoyo de matrícula de Chocolove\n",
        "if promedio_ponderado > 4.8:\n",
        "  apoyo_matricula = 5000000\n",
        "elif promedio_ponderado >= 4.5:\n",
        "  apoyo_matricula = 3500000\n",
        "elif promedio_ponderado >= 4.0:\n",
        "  apoyo_matricula = 2000000\n",
        "else:\n",
        "  apoyo_matricula = 0\n",
        "\n",
        "# Calcular costo total mensual y semestral\n",
        "costo_total_mensual = costo_transporte * 2 * 20 + costo_alimentacion - apoyo_transporte - apoyo_alimentacion\n",
        "costo_total_semestral = costo_total_mensual * 4 - apoyo_matricula\n",
        "\n",
        "# Imprimir resultados\n",
        "print(\"Su costo total mensual es de: $\", costo_total_mensual)\n",
        "print(\"Su costo total semestral es de: $\", costo_total_semestral)\n",
        "\n"
      ]
    }
  ]
}