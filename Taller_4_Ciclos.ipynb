{
  "cells": [
    {
      "cell_type": "markdown",
      "id": "66beb5a1",
      "metadata": {
        "id": "66beb5a1"
      },
      "source": [
        "# Fundamentos de Programación para Ingeniería Mecánica\n",
        "## UPB Montería - 202310\n",
        "### Taller 4: Ciclos\n",
        "- Docente: Miguel Ortiz (miguel.ortizp@upb.edu.co)"
      ]
    },
    {
      "cell_type": "markdown",
      "id": "b4381f55",
      "metadata": {
        "id": "b4381f55"
      },
      "source": [
        "Datos del Estudiante:\n",
        "- Nombre: Fredy Estrada Saez\n",
        "- ID: 000522583\n",
        "- email:fredy.estrada@upb.edu.co"
      ]
    },
    {
      "cell_type": "markdown",
      "id": "433f35a0",
      "metadata": {
        "id": "433f35a0"
      },
      "source": [
        "Resuelva los siguientes ejercicios utilizando estructuras cíclicas y condicionales."
      ]
    },
    {
      "cell_type": "markdown",
      "id": "aead929b",
      "metadata": {
        "id": "aead929b"
      },
      "source": [
        "### Problema 1: Suma de Elementos (30xp)\n",
        "\n",
        "Indique cuál de los dos números ingresados por el usuario tiene una suma de dígitos mayor y la diferencia de estas sumas. Si las sumas de los dígitos son iguales, infórmelo al usuario. \n",
        "\n",
        "**Ejemplo:**\n",
        "\n",
        "```\n",
        "Ingrese el primer número: 23672646\n",
        "Ingrese el segundo número: 12653686\n",
        "La suma de los elementos de la lista 2 es mayor que la suma de los elementos de la lista 1 en 1 unidades.\n",
        "```\n",
        "\n",
        "**Recomendación:** pruebe su algoritmo con listas de prueba:\n",
        "- `lst_1`: lista que representa el primer número. Por ejemplo: dígitos del número de su documento de identidad\n",
        "- `lst_2`: lista que representa el segundo número. Por ejemplo: dígitos del número de su id\n",
        "\n",
        "**Nota:** para leer un número ingresado por el usuario y convertirlo en lista puede utilizar las siguientes instrucciones:\n",
        "\n",
        "```python\n",
        "num = input('Número: ')\n",
        "lst = [int(x) for x in num]\n",
        "```"
      ]
    },
    {
      "cell_type": "markdown",
      "source": [],
      "metadata": {
        "id": "3eJLqlJeEL3o"
      },
      "id": "3eJLqlJeEL3o"
    },
    {
      "cell_type": "code",
      "source": [
        "# 2 NUMEROS Y CADA UNO SE LE ASIGNARA SUS VALORES EN 2 LISTAS\n",
        "\n",
        "num_1 = input('Número 1: ')\n",
        "lst_1 = [int(n) for n in num_1]\n",
        "num_2 = input('Numero 2: ')\n",
        "lst_2 = [int(n) for n in num_2]\n",
        "\n",
        "suma_1 = 0\n",
        "suma_2 = 0\n",
        "\n",
        "# LISTA 1\n",
        "\n",
        "for i in lst_1:\n",
        "  suma_1 = suma_1 + i\n",
        "\n",
        "# LISTA 2 \n",
        "\n",
        "for i in lst_2:\n",
        "  suma_2 = suma_2 + i\n",
        "\n",
        "\n",
        "# PROBAREMOS QUE VALOR ES MAYOR EN LA LISTA Y LUEGO CALCULAMOS LA DIFERENCIA \n",
        "\n",
        "if suma_1 > suma_2:\n",
        "  diferencia = suma_1 - suma_2\n",
        "\n",
        "  print(\"La suma de los elementos de la lista 1 es mayor que la suma de los elementos de la lista 2 en \" + str(diferencia) + \" unidades.\")\n",
        "\n",
        "elif suma_2 > suma_1:\n",
        "  diferencia = suma_2 - suma_1\n",
        "\n",
        "  print(\"La suma de los elementos de la lista 2 es mayor que la suma de los elementos de la lista 1 en \" + str(diferencia) + \" unidades.\")\n",
        "\n",
        "else:\n",
        "  diferencia = 0\n",
        "\n",
        "  print(\"La suma de los elementos de la lista 1 es igual que la suma de los elementos de la lista 2.\")\n",
        "\n",
        "\n"
      ],
      "metadata": {
        "colab": {
          "base_uri": "https://localhost:8080/"
        },
        "id": "zo8kDpmfFQut",
        "outputId": "558f09ab-ec9c-4433-aa1a-eb106816b477"
      },
      "id": "zo8kDpmfFQut",
      "execution_count": 47,
      "outputs": [
        {
          "output_type": "stream",
          "name": "stdout",
          "text": [
            "Número 1: 23672646\n",
            "Numero 2: 12653686\n",
            "La suma de los elementos de la lista 2 es mayor que la suma de los elementos de la lista 1 en 1 unidades.\n"
          ]
        }
      ]
    },
    {
      "cell_type": "markdown",
      "id": "986a4945",
      "metadata": {
        "id": "986a4945"
      },
      "source": [
        "### Problema 2: Suma Objetivo (50xp)\n",
        "\n",
        "Indique si la suma de los dígitos de un número de verificación alcanza un valor objetivo. Si obtiene el valor objetivo antes de finalizar el recorrido por todos los dígitos del número, indique la iteración en la que se obtuvo este valor. Tenga en cuenta que tanto el valor objetivo como el número de verificación son ingresados por el usuario. En cualquiera de los casos, muestre el resultado obtenido de la suma de los dígitos.\n",
        "\n",
        "**Ejemplo:**\n",
        "```\n",
        "Ingrese número de suma objetivo: 15\n",
        "Ingrese número para validar suma de dígitos: 1234562\n",
        "Suma obtenida en iteración 5 de 7\n",
        "Resultado obtenido: 15\n",
        "Alcanzó el valor objetivo.\n",
        "```\n",
        "\n",
        "**Recomendación:** pruebe su algoritmo con números y listas de prueba:\n",
        "- `n_obj`: valor objetivo\n",
        "- `lst`: lista que representa el número de verificación. Por ejemplo: dígitos del número de su id\n",
        "\n",
        "**Nota:** para leer un número ingresado por el usuario y convertirlo en lista puede utilizar las siguientes instrucciones:\n",
        "\n",
        "```python\n",
        "num = input('Número: ')\n",
        "lst = [int(x) for x in num]\n",
        "```"
      ]
    },
    {
      "cell_type": "code",
      "source": [
        "# NUMERO DE VERIFICACION DE DATOS\n",
        "n_obj = int(input(\"Ingrese número de suma objetivo: \"))\n",
        "\n",
        "num = input(\"Ingrese número para validar suma de dígitos: \")\n",
        "\n",
        "\n",
        "# LISTA POR VALIDAR\n",
        "\n",
        "lst = [int(n) for n in num]\n",
        "\n",
        "suma = 0\n",
        "\n",
        "# VALOR QUE SE BUSCA DE LA SUMA \n",
        "for i in range(len(lst)):\n",
        "\n",
        "    suma += lst[i]\n",
        "    \n",
        "    if suma >= n_obj or suma == n_obj:\n",
        "      \n",
        "# HALLAMOS EL VALOR DE ITERACIÓN\n",
        "\n",
        "      print(\"alcanzó el valor objetivo: \", i + 1, \"de \", max(range(len(lst))) + 1, \".\")\n",
        "      break\n",
        "# VALOR ITERACION\n",
        "\n",
        "print(\" Resultado obtenido \", suma, \".\")\n",
        "\n",
        "print(\"Alcanzo el valor objetivo\")\n"
      ],
      "metadata": {
        "colab": {
          "base_uri": "https://localhost:8080/"
        },
        "id": "Xivx7rCFJuek",
        "outputId": "24c99aa4-2774-448f-bad0-1cd58b3a51c5"
      },
      "id": "Xivx7rCFJuek",
      "execution_count": 48,
      "outputs": [
        {
          "output_type": "stream",
          "name": "stdout",
          "text": [
            "Ingrese número de suma objetivo: 15\n",
            "Ingrese número para validar suma de dígitos: 1234562\n",
            "alcanzó el valor objetivo:  5 de  7 .\n",
            " Resultado obtenido  15 .\n",
            "Alcanzo el valor objetivo\n"
          ]
        }
      ]
    },
    {
      "cell_type": "markdown",
      "id": "0b532b9b",
      "metadata": {
        "id": "0b532b9b"
      },
      "source": [
        "### Problema 3: Dígito Mayor (40xp)\n",
        "\n",
        "Indique el dígito de mayor valor y su posición en un número ingresado por el usuario. En caso de que el dígito mayor se repita, se debe retornar el índice del primero de ellos que fue encontrado. \n",
        "\n",
        "**Ejemplo:**\n",
        "\n",
        "```\n",
        "Ingrese número: 123753569054\n",
        "El dígito mayor de la lista es 9\n",
        "El número se encontró en la posición 8\n",
        "```\n",
        "\n",
        "**Recomendación:** pruebe su algoritmo con listas de prueba:\n",
        "- `lst`: lista que representa el número a evaluar. Por ejemplo: dígitos del número de su documento de identidad\n",
        "\n",
        "**Nota:** para leer un número ingresado por el usuario y convertirlo en lista puede utilizar las siguientes instrucciones:\n",
        "\n",
        "```python\n",
        "num = input('Número: ')\n",
        "lst = [int(x) for x in num]\n",
        "```"
      ]
    },
    {
      "cell_type": "code",
      "execution_count": 45,
      "id": "9159f388",
      "metadata": {
        "scrolled": true,
        "id": "9159f388",
        "colab": {
          "base_uri": "https://localhost:8080/"
        },
        "outputId": "17681c59-7b2d-4b65-d266-0eeb3ba1c532"
      },
      "outputs": [
        {
          "output_type": "stream",
          "name": "stdout",
          "text": [
            "Número: 123753569054\n",
            " el numero mayor de la lista es  9 y la posicion es 8 .\n"
          ]
        }
      ],
      "source": [
        "# NUMERO QUE SE VA A INGRESAR \n",
        "num = input('Número: ') \n",
        "\n",
        "#  posicion del numero\n",
        "lst = [int(x) for x in num]  \n",
        "\n",
        "print(\" el numero mayor de la lista es \", max(lst), \"y la posicion es\", lst.index(max(lst)), \".\")\n",
        "\n"
      ]
    },
    {
      "cell_type": "markdown",
      "id": "03af9108",
      "metadata": {
        "id": "03af9108"
      },
      "source": [
        "### Problema 4: Valores que coinciden (50xp)\n",
        "\n",
        "Indique las posiciones (índices) en los cuales se encuentran los mismos valores de los dígitos en dos números ingresados por el usuario. El algoritmo debe verificar que los números tengan la misma longitud (igual número de dígitos). Si ninguno de los dígitos de los números coincide, también debe informarlo al usuario. \n",
        "\n",
        "**Ejemplo:**\n",
        "\n",
        "```\n",
        "Ingrese el primer número: 124646272\n",
        "Ingrese el segundo número: 354849136\n",
        "Los números tienen 2 dígitos(s) en común en la(s) posición(es): [2, 4]\n",
        "```\n",
        "\n",
        "**Recomendación:** pruebe su algoritmo con listas de prueba:\n",
        "- `lst_1`: lista que representa el primer número. \n",
        "- `lst_2`: lista que representa el segundo número. \n",
        "\n",
        "**Nota:** para leer un número ingresado por el usuario y convertirlo en lista puede utilizar las siguientes instrucciones:\n",
        "\n",
        "```python\n",
        "num = input('Número: ')\n",
        "lst = [int(x) for x in num]\n",
        "```"
      ]
    },
    {
      "cell_type": "code",
      "execution_count": 89,
      "id": "85469377",
      "metadata": {
        "id": "85469377",
        "colab": {
          "base_uri": "https://localhost:8080/"
        },
        "outputId": "8f7ae764-d75f-4636-e3b2-ea06002bf4a8"
      },
      "outputs": [
        {
          "output_type": "stream",
          "name": "stdout",
          "text": [
            "Ingrese el primer número: 124646272\n",
            "Ingrese el segundo número: 354849136\n",
            "Los números tienen  2  dígito(s) en común en las posición(es):  [2, 4] .\n"
          ]
        }
      ],
      "source": [
        "# VALORES EN LA MISMA POSICION \n",
        "num_1 = input(\"Ingrese el primer número: \")\n",
        "\n",
        "num_2 = input(\"Ingrese el segundo número: \")\n",
        "\n",
        "# SI NO TIENEN DIGITOS EN COMUN\n",
        "\n",
        "if len(num_1) != len(num_2):\n",
        "\n",
        "    print(\"Los números no tienen la misma cantidad de valores.\")\n",
        "\n",
        "\n",
        "# TIENEN DIGITOS EN COMUN \n",
        "else:\n",
        "\n",
        "    same_values = []\n",
        "\n",
        "#LISTA CON RESPECTO A LA LISTA 2\n",
        "\n",
        "    for i in range(len(num_1)):\n",
        "\n",
        "        if num_1[i] == num_2[i]:\n",
        "\n",
        "            same_values.append(i)\n",
        "\n",
        "# VALORES EN COMUN, SI ES ASÍ Y POSICION\n",
        "\n",
        "    if len(same_values) > 0:\n",
        "      \n",
        "      dig_common = len(same_values)\n",
        "      \n",
        "      print(\"Los números tienen \", dig_common, \" dígito(s) en común en las posición(es): \", same_values, \".\")\n",
        "\n",
        "\n",
        "#SIN DIGITOS EN COMUN \n",
        "\n",
        "    else:\n",
        "\n",
        "        print(\"Los tienen digitos en común.\")\n",
        "      "
      ]
    }
  ],
  "metadata": {
    "kernelspec": {
      "display_name": "Python 3 (ipykernel)",
      "language": "python",
      "name": "python3"
    },
    "language_info": {
      "codemirror_mode": {
        "name": "ipython",
        "version": 3
      },
      "file_extension": ".py",
      "mimetype": "text/x-python",
      "name": "python",
      "nbconvert_exporter": "python",
      "pygments_lexer": "ipython3",
      "version": "3.10.6"
    },
    "colab": {
      "provenance": []
    }
  },
  "nbformat": 4,
  "nbformat_minor": 5
}