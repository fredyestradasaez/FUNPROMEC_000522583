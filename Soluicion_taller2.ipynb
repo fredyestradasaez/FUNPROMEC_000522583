{
  "nbformat": 4,
  "nbformat_minor": 0,
  "metadata": {
    "colab": {
      "provenance": [],
      "authorship_tag": "ABX9TyPhuxIzvROzGs6cqYolNEPr",
      "include_colab_link": true
    },
    "kernelspec": {
      "name": "python3",
      "display_name": "Python 3"
    },
    "language_info": {
      "name": "python"
    }
  },
  "cells": [
    {
      "cell_type": "markdown",
      "metadata": {
        "id": "view-in-github",
        "colab_type": "text"
      },
      "source": [
        "<a href=\"https://colab.research.google.com/github/fredyestradasaez/FUNPROMEC_000522583/blob/main/Soluicion_taller2.ipynb\" target=\"_parent\"><img src=\"https://colab.research.google.com/assets/colab-badge.svg\" alt=\"Open In Colab\"/></a>"
      ]
    },
    {
      "cell_type": "markdown",
      "source": [
        "##TALLER 2 \n",
        "#Fundamentos de programacion- Ingenieria Mecanica 202310\n",
        "#Fredy Estrada Saez\n",
        "#**id**: 000522583 "
      ],
      "metadata": {
        "id": "jDV5PFgNsYoQ"
      }
    },
    {
      "cell_type": "markdown",
      "source": [
        "#**Ejercicio 1** \n"
      ],
      "metadata": {
        "id": "58_fe2vKtROq"
      }
    },
    {
      "cell_type": "markdown",
      "source": [
        "**Variable**"
      ],
      "metadata": {
        "id": "LKtx97Cpv0gv"
      }
    },
    {
      "cell_type": "code",
      "source": [
        "X_0 = 3 \n",
        "a = 6 \n",
        "V_0 = 5 \n",
        "a = 6 \n",
        "t_1 = 0\n",
        "t_2 = 5"
      ],
      "metadata": {
        "id": "uAUY1FISv31H"
      },
      "execution_count": 4,
      "outputs": []
    },
    {
      "cell_type": "code",
      "source": [
        "#  X Posicion de un tiempo en una posicion dada\n",
        "x = X_0 + V_0 * t_1 + (1**2) * a * t_2 "
      ],
      "metadata": {
        "id": "kbN27jzzyRKW"
      },
      "execution_count": 7,
      "outputs": []
    },
    {
      "cell_type": "code",
      "source": [
        "print(x)"
      ],
      "metadata": {
        "colab": {
          "base_uri": "https://localhost:8080/"
        },
        "id": "Jo5_Y3mbyhbG",
        "outputId": "28b9bda9-c901-4e2d-85c3-e51ec24144de"
      },
      "execution_count": 8,
      "outputs": [
        {
          "output_type": "stream",
          "name": "stdout",
          "text": [
            "33\n"
          ]
        }
      ]
    },
    {
      "cell_type": "markdown",
      "source": [
        "# **Ejercicio 2** \n"
      ],
      "metadata": {
        "id": "fu4K3kwrywYA"
      }
    },
    {
      "cell_type": "markdown",
      "source": [
        "**Coordenadas D1**  "
      ],
      "metadata": {
        "id": "ieEbytpm0A4X"
      }
    },
    {
      "cell_type": "code",
      "source": [
        "X_1 = 2\n",
        "Y_1 = 3\n",
        "X_2 =-5\n",
        "Y_3 = 4 \n",
        " "
      ],
      "metadata": {
        "id": "Ceh2pqFX1F_2"
      },
      "execution_count": 18,
      "outputs": []
    },
    {
      "cell_type": "markdown",
      "source": [
        "**Coordenadas D2** "
      ],
      "metadata": {
        "id": "3gD8c8Up2Fe3"
      }
    },
    {
      "cell_type": "code",
      "source": [
        "X_1 = 2\n",
        "Y_1 = 3\n",
        "X_2 =-5\n",
        "Y_3 = 4 "
      ],
      "metadata": {
        "id": "rL7081mt2KPl"
      },
      "execution_count": null,
      "outputs": []
    },
    {
      "cell_type": "code",
      "source": [
        "## formula para hallar la distancia euclidiana\n",
        "d =  **0.5 "
      ],
      "metadata": {
        "colab": {
          "base_uri": "https://localhost:8080/",
          "height": 130
        },
        "id": "VlvWNV0g2K7-",
        "outputId": "a83f54b0-63e4-430b-b699-b0a7e05b2323"
      },
      "execution_count": 19,
      "outputs": [
        {
          "output_type": "error",
          "ename": "SyntaxError",
          "evalue": "ignored",
          "traceback": [
            "\u001b[0;36m  File \u001b[0;32m\"<ipython-input-19-cbcd1fef08bb>\"\u001b[0;36m, line \u001b[0;32m2\u001b[0m\n\u001b[0;31m    d =  **0.5\u001b[0m\n\u001b[0m         ^\u001b[0m\n\u001b[0;31mSyntaxError\u001b[0m\u001b[0;31m:\u001b[0m invalid syntax\n"
          ]
        }
      ]
    },
    {
      "cell_type": "code",
      "source": [],
      "metadata": {
        "id": "Pa1jg9GO31EH"
      },
      "execution_count": null,
      "outputs": []
    },
    {
      "cell_type": "markdown",
      "source": [
        "**Ejercicio 3**\n",
        "\n"
      ],
      "metadata": {
        "id": "OLIwJA4H314O"
      }
    },
    {
      "cell_type": "code",
      "source": [
        "A > B\n",
        "B <= C\n",
        "A = B y B > C\n",
        "A < C o B < C\n",
        "C != B\n",
        "A + D < C\n",
        "D – C >= - A * B\n",
        "D * C == 5 o C * A > 9\n",
        "A * B + C > - D * 10\n",
        "4 * B == C * 3\n"
      ],
      "metadata": {
        "id": "LZbXSmOl34kF"
      },
      "execution_count": null,
      "outputs": []
    },
    {
      "cell_type": "markdown",
      "source": [
        "**Variables** "
      ],
      "metadata": {
        "id": "95GoZZaa42Vg"
      }
    },
    {
      "cell_type": "code",
      "source": [
        "A = 5 \n",
        "B = 2\n",
        "C = 3 \n",
        "D = -2 \n"
      ],
      "metadata": {
        "id": "93EKXfsN35JP"
      },
      "execution_count": 20,
      "outputs": []
    },
    {
      "cell_type": "markdown",
      "source": [
        "**SOLUCION** "
      ],
      "metadata": {
        "id": "eBWpTWfN4sH-"
      }
    },
    {
      "cell_type": "code",
      "source": [
        "pr == C * 3)"
      ],
      "metadata": {
        "colab": {
          "base_uri": "https://localhost:8080/",
          "height": 165
        },
        "id": "40l9zL134Od9",
        "outputId": "421d656d-9705-4497-8cf9-fbd8b2ecd2cd"
      },
      "execution_count": 23,
      "outputs": [
        {
          "output_type": "error",
          "ename": "NameError",
          "evalue": "ignored",
          "traceback": [
            "\u001b[0;31m---------------------------------------------------------------------------\u001b[0m",
            "\u001b[0;31mNameError\u001b[0m                                 Traceback (most recent call last)",
            "\u001b[0;32m<ipython-input-23-62f5fa659de1>\u001b[0m in \u001b[0;36m<module>\u001b[0;34m\u001b[0m\n\u001b[0;32m----> 1\u001b[0;31m \u001b[0mprint\u001b[0m\u001b[0;34m(\u001b[0m \u001b[0;36m4\u001b[0m \u001b[0;34m*\u001b[0m \u001b[0mB\u001b[0m \u001b[0;34m==\u001b[0m \u001b[0mC\u001b[0m \u001b[0;34m*\u001b[0m \u001b[0;36m3\u001b[0m\u001b[0;34m)\u001b[0m\u001b[0;34m\u001b[0m\u001b[0;34m\u001b[0m\u001b[0m\n\u001b[0m",
            "\u001b[0;31mNameError\u001b[0m: name 'B' is not defined"
          ]
        }
      ]
    },
    {
      "cell_type": "code",
      "source": [],
      "metadata": {
        "id": "OX0An3Uh44_f"
      },
      "execution_count": null,
      "outputs": []
    }
  ]
}