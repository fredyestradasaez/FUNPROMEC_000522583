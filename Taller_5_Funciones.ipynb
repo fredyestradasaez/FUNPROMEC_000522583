{
  "cells": [
    {
      "cell_type": "markdown",
      "id": "66beb5a1",
      "metadata": {
        "id": "66beb5a1"
      },
      "source": [
        "# Fundamentos de Programación para Ingeniería Mecánica\n",
        "## UPB Montería - 202310\n",
        "### Taller 5: Funciones y Estructuras de Datos\n",
        "- Docente: Miguel Ortiz (miguel.ortizp@upb.edu.co)"
      ]
    },
    {
      "cell_type": "markdown",
      "id": "b4381f55",
      "metadata": {
        "id": "b4381f55"
      },
      "source": [
        "Datos del Estudiante:\n",
        "- Nombre:\n",
        "- ID:\n",
        "- email:"
      ]
    },
    {
      "cell_type": "markdown",
      "id": "433f35a0",
      "metadata": {
        "id": "433f35a0"
      },
      "source": [
        "> Resuelva los siguientes ejercicios utilizando **Funciones, Listas y Diccionarios**."
      ]
    },
    {
      "cell_type": "markdown",
      "id": "aead929b",
      "metadata": {
        "id": "aead929b"
      },
      "source": [
        "### Problema 1: Discurso Político (150xp)\n",
        "\n",
        "Diseñe el algoritmo y escriba un código en lenguaje de programación Python para generar discursos políticos aleatorios, teniendo en cuenta la siguiente imagen:\n",
        "\n",
        "![componentes de un discurso](https://github.com/Mikheltodd/FunProgMec_202310_Taller5/blob/main/discurso.png?raw=1)\n",
        "\n",
        "Para ello, debe solicitar al usuario el nombre del candidato, un presupuesto general, y tres (3) porcentajes que representen los dineros que destinará a diferentes sectores seleccionados de forma aleatoria (lista de beneficio populista).\n",
        "\n",
        "Crea una función sin parámetros que retorne un string con el mensaje político. Dentro de la función deben aparecer los inputs para solicitar información al usuario. Guarda el mensaje creado por la función en una variable llamada `mensaje_politico` e imprime su valor en consola. \n",
        "\n",
        "**Ejemplo:**\n",
        "\n",
        "```\n",
        ">>> Entradas:\n",
        "Ingrese nombre del candidato: Chocolove McDonell\n",
        "Ingrese presupuesto (en millones de pesos): 1250\n",
        "Ingrese Porcentaje 1: 25\n",
        "Ingrese Porcentaje 2: 30\n",
        "Ingrese Porcentaje 3: 45\n",
        ">>> Salidas:\n",
        "Estimados copartidarios. \n",
        "Mi nombre es Chocolove McDonell y hoy vengo a decirles que, con su ayuda combatiré el desplazamiento y promoveré la educación de cada colombiano. Y es por eso que hoy he venido a proponerles invertir $1250.0 millones de pesos de la siguiente manera: \n",
        " - $312.5 millones de pesos en el empleo \n",
        " - $375.0 millones de pesos en la educación \n",
        " - $562.5 millones de pesos en la salud \n",
        "```\n",
        "\n",
        "**Nota:** para seleccionar un elemento aleatorio de una lista puede utilizar la función `choice()` de la librería random:\n",
        "\n",
        "```python\n",
        "import random\n",
        "random.choice([1, 2, 3])\n",
        "```\n",
        "\n",
        "**Recomendación:** cree las variables sin acento (tildes) y en minúsculas. "
      ]
    },
    {
      "cell_type": "code",
      "execution_count": null,
      "id": "a78382aa",
      "metadata": {
        "id": "a78382aa"
      },
      "outputs": [],
      "source": []
    },
    {
      "cell_type": "code",
      "execution_count": null,
      "id": "81812b6a",
      "metadata": {
        "id": "81812b6a"
      },
      "outputs": [],
      "source": []
    }
  ],
  "metadata": {
    "kernelspec": {
      "display_name": "Python 3 (ipykernel)",
      "language": "python",
      "name": "python3"
    },
    "language_info": {
      "codemirror_mode": {
        "name": "ipython",
        "version": 3
      },
      "file_extension": ".py",
      "mimetype": "text/x-python",
      "name": "python",
      "nbconvert_exporter": "python",
      "pygments_lexer": "ipython3",
      "version": "3.10.6"
    },
    "colab": {
      "provenance": []
    }
  },
  "nbformat": 4,
  "nbformat_minor": 5
}