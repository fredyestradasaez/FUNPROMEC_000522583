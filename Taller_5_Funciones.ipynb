{
  "cells": [
    {
      "cell_type": "markdown",
      "id": "66beb5a1",
      "metadata": {
        "id": "66beb5a1"
      },
      "source": [
        "# Fundamentos de Programación para Ingeniería Mecánica\n",
        "## UPB Montería - 202310\n",
        "### Taller 5: Funciones y Estructuras de Datos\n",
        "- Docente: Miguel Ortiz (miguel.ortizp@upb.edu.co)"
      ]
    },
    {
      "cell_type": "markdown",
      "id": "b4381f55",
      "metadata": {
        "id": "b4381f55"
      },
      "source": [
        "Datos del Estudiante:\n",
        "- Nombre: Fredy Estrada Saez\n",
        "- ID: 000522583\n",
        "- email: fredy.estrada@upb.edu.co"
      ]
    },
    {
      "cell_type": "markdown",
      "id": "433f35a0",
      "metadata": {
        "id": "433f35a0"
      },
      "source": [
        "> Resuelva los siguientes ejercicios utilizando **Funciones, Listas y Diccionarios**."
      ]
    },
    {
      "cell_type": "markdown",
      "id": "aead929b",
      "metadata": {
        "id": "aead929b"
      },
      "source": [
        "### Problema 1: Discurso Político (150xp)\n",
        "\n",
        "Diseñe el algoritmo y escriba un código en lenguaje de programación Python para generar discursos políticos aleatorios, teniendo en cuenta la siguiente imagen:\n",
        "\n",
        "![componentes de un discurso](https://github.com/Mikheltodd/FunProgMec_202310_Taller5/blob/main/discurso.png?raw=1)\n",
        "\n",
        "Para ello, debe solicitar al usuario el nombre del candidato, un presupuesto general, y tres (3) porcentajes que representen los dineros que destinará a diferentes sectores seleccionados de forma aleatoria (lista de beneficio populista).\n",
        "\n",
        "Crea una función sin parámetros que retorne un string con el mensaje político. Dentro de la función deben aparecer los inputs para solicitar información al usuario. Guarda el mensaje creado por la función en una variable llamada `mensaje_politico` e imprime su valor en consola. \n",
        "\n",
        "**Ejemplo:**\n",
        "\n",
        "```\n",
        ">>> Entradas:\n",
        "Ingrese nombre del candidato: Chocolove McDonell\n",
        "Ingrese presupuesto (en millones de pesos): 1250\n",
        "Ingrese Porcentaje 1: 25\n",
        "Ingrese Porcentaje 2: 30\n",
        "Ingrese Porcentaje 3: 45\n",
        ">>> Salidas:\n",
        "Estimados copartidarios. \n",
        "Mi nombre es Chocolove McDonell y hoy vengo a decirles que, con su ayuda combatiré el desplazamiento y promoveré la educación de cada colombiano. Y es por eso que hoy he venido a proponerles invertir $1250.0 millones de pesos de la siguiente manera: \n",
        " - $312.5 millones de pesos en el empleo \n",
        " - $375.0 millones de pesos en la educación \n",
        " - $562.5 millones de pesos en la salud \n",
        "```\n",
        "\n",
        "**Nota:** para seleccionar un elemento aleatorio de una lista puede utilizar la función `choice()` de la librería random:\n",
        "\n",
        "```python\n",
        "import random\n",
        "random.choice([1, 2, 3])\n",
        "```\n",
        "\n",
        "**Recomendación:** cree las variables sin acento (tildes) y en minúsculas. "
      ]
    },
    {
      "cell_type": "code",
      "execution_count": 6,
      "id": "a78382aa",
      "metadata": {
        "colab": {
          "base_uri": "https://localhost:8080/",
          "height": 135
        },
        "id": "a78382aa",
        "outputId": "e59d262c-1087-42a1-9c97-885e3742e585"
      },
      "outputs": [
        {
          "output_type": "error",
          "ename": "SyntaxError",
          "evalue": "ignored",
          "traceback": [
            "\u001b[0;36m  File \u001b[0;32m\"<ipython-input-6-2766c882aae4>\"\u001b[0;36m, line \u001b[0;32m20\u001b[0m\n\u001b[0;31m    valor = presupuesto *[porc / 100) for porc in porcentajes]\u001b[0m\n\u001b[0m                                    ^\u001b[0m\n\u001b[0;31mSyntaxError\u001b[0m\u001b[0;31m:\u001b[0m closing parenthesis ')' does not match opening parenthesis '['\n"
          ]
        }
      ],
      "source": [
        "# entrada 1 : mensaje 1\n",
        "\n",
        "def mensaje_politico():\n",
        "import random \n",
        "nombre = int(input(\"Ingrese nombre del candidato: \"))\n",
        "presupuesto = int(input(\"Ingrese su presupuesto(millones de pesos): \"))\n",
        "porc_1 = int(input(\"Ingrese su porcentaje 1: \"))\n",
        "porc_2 = int(input(\"Ingrese su porcentaje 2: \"))\n",
        "porc_3 = int(input(\"Ingrese su porcentaje 3: \"))\n",
        "\n",
        "\n",
        "\n",
        "# calculo de dinero por sectores \n",
        "\n",
        "beneficiado = [\"empleo\", \"educacion\", \"salud\"]\n",
        "\n",
        "# calculo de preupuesto por porcentaje \n",
        "\n",
        "porcentajes = [porc_1 ,porc_2, porc_3]\n",
        "valor = presupuesto *[porc / 100) for porc in porcs]\n",
        "for beneficiado, porcs in  zip(beneficiado, valor):\n",
        "\n",
        "# mensaje \n",
        "\n",
        "titulo = [\"Queridos\", ] \n",
        "publico objetivo\n",
        "\n",
        "\n",
        "my_dict(1: sujeto, 2: deseo,3: accion, 4: adjetivo, 5: complemento, 6: final)\n",
        "\n",
        "message = \"\"\n",
        "import random \n",
        "for i in range(lines):\n",
        "  for values in my_dict.values():\n",
        "  message += random.choice(values)\n",
        "  message += \"n/\"\n",
        "\n",
        "print(message)\n",
        "\n",
        "#mensaje politico \n",
        "\n",
        "mensaje_politico = generar_mensaje_politico()\n",
        "print(mensaje_politico)"
      ]
    }
  ],
  "metadata": {
    "kernelspec": {
      "display_name": "Python 3 (ipykernel)",
      "language": "python",
      "name": "python3"
    },
    "language_info": {
      "codemirror_mode": {
        "name": "ipython",
        "version": 3
      },
      "file_extension": ".py",
      "mimetype": "text/x-python",
      "name": "python",
      "nbconvert_exporter": "python",
      "pygments_lexer": "ipython3",
      "version": "3.10.6"
    },
    "colab": {
      "provenance": []
    }
  },
  "nbformat": 4,
  "nbformat_minor": 5
}