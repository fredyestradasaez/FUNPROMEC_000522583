{
  "nbformat": 4,
  "nbformat_minor": 0,
  "metadata": {
    "colab": {
      "provenance": [],
      "authorship_tag": "ABX9TyOIeIUADUA+QFSszsuaUYRt",
      "include_colab_link": true
    },
    "kernelspec": {
      "name": "python3",
      "display_name": "Python 3"
    },
    "language_info": {
      "name": "python"
    }
  },
  "cells": [
    {
      "cell_type": "markdown",
      "metadata": {
        "id": "view-in-github",
        "colab_type": "text"
      },
      "source": [
        "<a href=\"https://colab.research.google.com/github/fredyestradasaez/FUNPROMEC_000522583/blob/main/Practicas.ipynb\" target=\"_parent\"><img src=\"https://colab.research.google.com/assets/colab-badge.svg\" alt=\"Open In Colab\"/></a>"
      ]
    },
    {
      "cell_type": "markdown",
      "source": [
        "# Ejercio de la moneda"
      ],
      "metadata": {
        "id": "MIWtxHskAq5r"
      }
    },
    {
      "cell_type": "markdown",
      "source": [
        "\n",
        "\n",
        "---\n",
        "\n"
      ],
      "metadata": {
        "id": "IR-wTdgSAdpO"
      }
    },
    {
      "cell_type": "code",
      "source": [
        "import random\n",
        "\n",
        "coin = random. choice([\"Cara\", \"Selb\"]) \n",
        "print(\"Seleccione Cara o sello: \")  \n",
        "print(\"1. Cara\") \n",
        "print(\"2. Sello\") \n",
        "my_choice\n"
      ],
      "metadata": {
        "id": "oTcVV2sHAkft"
      },
      "execution_count": null,
      "outputs": []
    }
  ]
}